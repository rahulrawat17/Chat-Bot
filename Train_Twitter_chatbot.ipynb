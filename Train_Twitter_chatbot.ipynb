{
 "cells": [
  {
   "cell_type": "markdown",
   "metadata": {
    "colab_type": "text",
    "id": "boBfdtInea4R"
   },
   "source": [
    "# Demonstrate Seq2Seq Wrapper with twitter chat log"
   ]
  },
  {
   "cell_type": "code",
   "execution_count": 2,
   "metadata": {
    "colab": {
     "base_uri": "https://localhost:8080/",
     "height": 34
    },
    "colab_type": "code",
    "executionInfo": {
     "elapsed": 971,
     "status": "ok",
     "timestamp": 1585022905344,
     "user": {
      "displayName": "Rahul rXd",
      "photoUrl": "",
      "userId": "12154398858219444300"
     },
     "user_tz": -330
    },
    "id": "yG0YYK5Ka60N",
    "outputId": "e41308e2-8602-4bae-8fa9-d074a22652b0"
   },
   "outputs": [
    {
     "name": "stdout",
     "output_type": "stream",
     "text": [
      "1.0.0\n"
     ]
    }
   ],
   "source": [
    "import tensorflow as tf\n",
    "#print(tf.__version__)"
   ]
  },
  {
   "cell_type": "code",
   "execution_count": 1,
   "metadata": {
    "colab": {},
    "colab_type": "code",
    "id": "hvUL2aTgea4Y"
   },
   "outputs": [],
   "source": [
    "import tensorflow as tf\n",
    "import numpy as np\n",
    "\n",
    "# preprocessed data\n",
    "from datasets.twitter import data\n",
    "import data_utils"
   ]
  },
  {
   "cell_type": "code",
   "execution_count": 2,
   "metadata": {
    "colab": {},
    "colab_type": "code",
    "id": "YBD4d151ea4p"
   },
   "outputs": [],
   "source": [
    "# load data from pickle and npy files\n",
    "metadata, idx_q, idx_a = data.load_data(PATH='datasets/twitter/')\n",
    "(trainX, trainY), (testX, testY), (validX, validY) = data_utils.split_dataset(idx_q, idx_a)"
   ]
  },
  {
   "cell_type": "code",
   "execution_count": 3,
   "metadata": {
    "colab": {},
    "colab_type": "code",
    "id": "UE0ET9Teea4z"
   },
   "outputs": [],
   "source": [
    "# parameters \n",
    "xseq_len = trainX.shape[-1]\n",
    "yseq_len = trainY.shape[-1]\n",
    "batch_size = 16\n",
    "xvocab_size = len(metadata['idx2w'])  \n",
    "yvocab_size = xvocab_size\n",
    "emb_dim = 1024"
   ]
  },
  {
   "cell_type": "code",
   "execution_count": 4,
   "metadata": {
    "colab": {},
    "colab_type": "code",
    "id": "NS89ArDYea48"
   },
   "outputs": [],
   "source": [
    "import seq2seq_wrapper"
   ]
  },
  {
   "cell_type": "code",
   "execution_count": 5,
   "metadata": {
    "colab": {
     "base_uri": "https://localhost:8080/",
     "height": 34
    },
    "colab_type": "code",
    "executionInfo": {
     "elapsed": 932,
     "status": "ok",
     "timestamp": 1585022935565,
     "user": {
      "displayName": "Rahul rXd",
      "photoUrl": "",
      "userId": "12154398858219444300"
     },
     "user_tz": -330
    },
    "id": "eypzHMqPea5E",
    "outputId": "3d5ca6b5-be50-4373-9d62-62519ee07378"
   },
   "outputs": [
    {
     "data": {
      "text/plain": [
       "<module 'seq2seq_wrapper' from 'C:\\\\Users\\\\RahulRJ\\\\Documents\\\\machine-learining\\\\(drive)practical_seq2seq-master\\\\seq2seq_wrapper.py'>"
      ]
     },
     "execution_count": 5,
     "metadata": {},
     "output_type": "execute_result"
    }
   ],
   "source": [
    "import importlib\n",
    "importlib.reload(seq2seq_wrapper)"
   ]
  },
  {
   "cell_type": "code",
   "execution_count": 6,
   "metadata": {
    "colab": {
     "base_uri": "https://localhost:8080/",
     "height": 34
    },
    "colab_type": "code",
    "executionInfo": {
     "elapsed": 10920,
     "status": "ok",
     "timestamp": 1585022953369,
     "user": {
      "displayName": "Rahul rXd",
      "photoUrl": "",
      "userId": "12154398858219444300"
     },
     "user_tz": -330
    },
    "id": "cP0k3jWyea5Z",
    "outputId": "619a3898-1b55-4814-f7a8-7e7710024e90"
   },
   "outputs": [
    {
     "name": "stdout",
     "output_type": "stream",
     "text": [
      "<log> Building Graph </log>"
     ]
    }
   ],
   "source": [
    "model = seq2seq_wrapper.Seq2Seq(xseq_len=xseq_len,\n",
    "                               yseq_len=yseq_len,\n",
    "                               xvocab_size=xvocab_size,\n",
    "                               yvocab_size=yvocab_size,\n",
    "                               ckpt_path='ckpt/twitter/',\n",
    "                               emb_dim=emb_dim,\n",
    "                               num_layers=3\n",
    "                               )"
   ]
  },
  {
   "cell_type": "code",
   "execution_count": 7,
   "metadata": {
    "colab": {},
    "colab_type": "code",
    "id": "fXifPjOQea5g"
   },
   "outputs": [],
   "source": [
    "val_batch_gen = data_utils.rand_batch_gen(validX, validY, 256)\n",
    "test_batch_gen = data_utils.rand_batch_gen(testX, testY, 256)\n",
    "train_batch_gen = data_utils.rand_batch_gen(trainX, trainY, batch_size)"
   ]
  },
  {
   "cell_type": "markdown",
   "metadata": {
    "colab_type": "text",
    "id": "sL9hQ7Pte1Wn"
   },
   "source": [
    "train....."
   ]
  },
  {
   "cell_type": "code",
   "execution_count": null,
   "metadata": {
    "colab": {
     "base_uri": "https://localhost:8080/",
     "height": 70
    },
    "colab_type": "code",
    "executionInfo": {
     "elapsed": 9063228,
     "status": "ok",
     "timestamp": 1585032042268,
     "user": {
      "displayName": "Rahul rXd",
      "photoUrl": "",
      "userId": "12154398858219444300"
     },
     "user_tz": -330
    },
    "id": "gBN9L4Ggea5n",
    "outputId": "10a88a92-48ae-4f70-a07b-afc1c9ec9a3a"
   },
   "outputs": [
    {
     "name": "stdout",
     "output_type": "stream",
     "text": [
      "\n",
      "<log> Training started </log>\n",
      "\n",
      "Model saved to disk at iteration #1000\n",
      "val   loss : 2.954721\n",
      "\n",
      "Model saved to disk at iteration #2000\n",
      "val   loss : 2.915953\n",
      "\n",
      "Model saved to disk at iteration #3000\n",
      "val   loss : 2.824546\n",
      "\n",
      "Model saved to disk at iteration #4000\n",
      "val   loss : 2.831007\n",
      "\n",
      "Model saved to disk at iteration #5000\n",
      "val   loss : 2.815164\n",
      "\n",
      "Model saved to disk at iteration #6000\n",
      "val   loss : 2.766842\n",
      "\n",
      "Model saved to disk at iteration #7000\n",
      "val   loss : 2.755351\n",
      "\n",
      "Model saved to disk at iteration #8000\n",
      "val   loss : 2.753683\n",
      "\n",
      "Model saved to disk at iteration #9000\n",
      "val   loss : 2.760797\n",
      "\n",
      "Model saved to disk at iteration #10000\n",
      "val   loss : 2.707783\n",
      "\n",
      "Model saved to disk at iteration #11000\n",
      "val   loss : 2.722402\n",
      "\n",
      "Model saved to disk at iteration #12000\n",
      "val   loss : 2.738838\n",
      "\n",
      "Model saved to disk at iteration #13000\n",
      "val   loss : 2.705060\n",
      "\n",
      "Model saved to disk at iteration #14000\n",
      "val   loss : 2.727238\n",
      "\n",
      "Model saved to disk at iteration #15000\n",
      "val   loss : 2.676563\n",
      "\n",
      "Model saved to disk at iteration #16000\n",
      "val   loss : 2.615976\n",
      "\n",
      "Model saved to disk at iteration #17000\n",
      "val   loss : 2.655333\n",
      "\n",
      "Model saved to disk at iteration #18000\n",
      "val   loss : 2.645005\n",
      "\n",
      "Model saved to disk at iteration #19000\n",
      "val   loss : 2.624726\n",
      "\n",
      "Model saved to disk at iteration #20000\n",
      "val   loss : 2.643716\n",
      "\n",
      "Model saved to disk at iteration #21000\n",
      "val   loss : 2.606812\n",
      "\n",
      "Model saved to disk at iteration #22000\n",
      "val   loss : 2.602432\n",
      "\n",
      "Model saved to disk at iteration #23000\n",
      "val   loss : 2.605665\n",
      "\n",
      "Model saved to disk at iteration #24000\n",
      "val   loss : 2.601415\n",
      "\n",
      "Model saved to disk at iteration #25000\n",
      "val   loss : 2.569434\n",
      "\n",
      "Model saved to disk at iteration #26000\n",
      "val   loss : 2.578931\n",
      "\n",
      "Model saved to disk at iteration #27000\n",
      "val   loss : 2.537850\n",
      "\n",
      "Model saved to disk at iteration #28000\n",
      "val   loss : 2.621207\n",
      "\n",
      "Model saved to disk at iteration #29000\n",
      "val   loss : 2.588597\n",
      "\n",
      "Model saved to disk at iteration #30000\n",
      "val   loss : 2.580457\n",
      "\n",
      "Model saved to disk at iteration #31000\n",
      "val   loss : 2.607574\n",
      "\n",
      "Model saved to disk at iteration #32000\n",
      "val   loss : 2.588285\n",
      "\n",
      "Model saved to disk at iteration #33000\n",
      "val   loss : 2.571023\n",
      "\n",
      "Model saved to disk at iteration #34000\n",
      "val   loss : 2.543298\n",
      "\n",
      "Model saved to disk at iteration #35000\n",
      "val   loss : 2.544157\n",
      "\n",
      "Model saved to disk at iteration #36000\n",
      "val   loss : 2.562656\n",
      "\n",
      "Model saved to disk at iteration #37000\n",
      "val   loss : 2.504190\n",
      "\n",
      "Model saved to disk at iteration #38000\n",
      "val   loss : 2.551932\n",
      "\n",
      "Model saved to disk at iteration #39000\n",
      "val   loss : 2.528085\n",
      "\n",
      "Model saved to disk at iteration #40000\n",
      "val   loss : 2.552175\n",
      "\n",
      "Model saved to disk at iteration #41000\n",
      "val   loss : 2.556277\n",
      "\n",
      "Model saved to disk at iteration #42000\n",
      "val   loss : 2.567143\n",
      "\n",
      "Model saved to disk at iteration #43000\n",
      "val   loss : 2.545666\n",
      "\n",
      "Model saved to disk at iteration #44000\n",
      "val   loss : 2.533156\n",
      "\n",
      "Model saved to disk at iteration #45000\n",
      "val   loss : 2.567905\n",
      "\n",
      "Model saved to disk at iteration #46000\n",
      "val   loss : 2.535452\n",
      "\n",
      "Model saved to disk at iteration #47000\n",
      "val   loss : 2.558306\n",
      "\n",
      "Model saved to disk at iteration #48000\n",
      "val   loss : 2.552579\n",
      "\n",
      "Model saved to disk at iteration #49000\n",
      "val   loss : 2.575735\n",
      "\n",
      "Model saved to disk at iteration #50000\n",
      "val   loss : 2.535023\n",
      "\n",
      "Model saved to disk at iteration #51000\n",
      "val   loss : 2.583675\n",
      "\n",
      "Model saved to disk at iteration #52000\n",
      "val   loss : 2.569632\n",
      "\n",
      "Model saved to disk at iteration #53000\n",
      "val   loss : 2.571524\n",
      "\n",
      "Model saved to disk at iteration #54000\n",
      "val   loss : 2.574627\n",
      "\n",
      "Model saved to disk at iteration #55000\n",
      "val   loss : 2.564677\n",
      "\n",
      "Model saved to disk at iteration #56000\n",
      "val   loss : 2.550277\n",
      "\n",
      "Model saved to disk at iteration #57000\n",
      "val   loss : 2.617455\n",
      "\n",
      "Model saved to disk at iteration #58000\n",
      "val   loss : 2.569075\n",
      "\n",
      "Model saved to disk at iteration #59000\n",
      "val   loss : 2.573701\n",
      "\n",
      "Model saved to disk at iteration #60000\n",
      "val   loss : 2.556390\n",
      "\n",
      "Model saved to disk at iteration #61000\n",
      "val   loss : 2.588904\n",
      "\n",
      "Model saved to disk at iteration #62000\n",
      "val   loss : 2.581207\n",
      "\n",
      "Model saved to disk at iteration #63000\n",
      "val   loss : 2.611776\n",
      "\n",
      "Model saved to disk at iteration #64000\n",
      "val   loss : 2.547385\n",
      "\n",
      "Model saved to disk at iteration #65000\n",
      "val   loss : 2.600227\n",
      "\n",
      "Model saved to disk at iteration #66000\n",
      "val   loss : 2.596303\n",
      "\n",
      "Model saved to disk at iteration #67000\n",
      "val   loss : 2.591429\n",
      "\n",
      "Model saved to disk at iteration #68000\n",
      "val   loss : 2.613885\n",
      "\n",
      "Model saved to disk at iteration #69000\n",
      "val   loss : 2.607937\n",
      "\n",
      "Model saved to disk at iteration #70000\n",
      "val   loss : 2.661256\n",
      "\n",
      "Model saved to disk at iteration #71000\n",
      "val   loss : 2.602643\n",
      "\n",
      "Model saved to disk at iteration #72000\n",
      "val   loss : 2.611567\n",
      "\n",
      "Model saved to disk at iteration #73000\n",
      "val   loss : 2.583289\n",
      "\n",
      "Model saved to disk at iteration #74000\n",
      "val   loss : 2.593385\n",
      "\n",
      "Model saved to disk at iteration #75000\n",
      "val   loss : 2.653968\n",
      "\n",
      "Model saved to disk at iteration #76000\n",
      "val   loss : 2.634244\n",
      "\n",
      "Model saved to disk at iteration #77000\n",
      "val   loss : 2.636228\n",
      "\n",
      "Model saved to disk at iteration #78000\n",
      "val   loss : 2.666407\n",
      "\n",
      "Model saved to disk at iteration #79000\n",
      "val   loss : 2.656502\n",
      "\n",
      "Model saved to disk at iteration #80000\n",
      "val   loss : 2.663025\n",
      "\n",
      "Model saved to disk at iteration #81000\n",
      "val   loss : 2.674864\n"
     ]
    }
   ],
   "source": [
    "#start training----------\n",
    "sess = model.train(train_batch_gen, val_batch_gen)"
   ]
  },
  {
   "cell_type": "markdown",
   "metadata": {
    "colab_type": "text",
    "id": "E_fmysKKe4YP"
   },
   "source": [
    "*restore* session"
   ]
  },
  {
   "cell_type": "code",
   "execution_count": 8,
   "metadata": {
    "colab": {},
    "colab_type": "code",
    "id": "eDbu-XbPea5v"
   },
   "outputs": [],
   "source": [
    "#sess = model.restore_last_session()"
   ]
  },
  {
   "cell_type": "code",
   "execution_count": 9,
   "metadata": {
    "colab": {
     "base_uri": "https://localhost:8080/",
     "height": 35
    },
    "colab_type": "code",
    "executionInfo": {
     "elapsed": 30859,
     "status": "ok",
     "timestamp": 1585011295710,
     "user": {
      "displayName": "Rahul rXd",
      "photoUrl": "",
      "userId": "12154398858219444300"
     },
     "user_tz": -330
    },
    "id": "mVLHL_KYea52",
    "outputId": "784c5a77-3e48-49d7-a24c-33c1d18fc58c"
   },
   "outputs": [
    {
     "name": "stdout",
     "output_type": "stream",
     "text": [
      "(256, 20)\n"
     ]
    }
   ],
   "source": [
    "#input_ = test_batch_gen.__next__()[0]\n",
    "#output = model.predict(sess, input_)\n",
    "#print(output.shape)"
   ]
  },
  {
   "cell_type": "code",
   "execution_count": 0,
   "metadata": {
    "colab": {},
    "colab_type": "code",
    "id": "AHBVN8Pgea6b"
   },
   "outputs": [],
   "source": []
  }
 ],
 "metadata": {
  "accelerator": "TPU",
  "colab": {
   "collapsed_sections": [],
   "name": "03-Twitter-chatbot.ipynb",
   "provenance": []
  },
  "kernelspec": {
   "display_name": "Python 3",
   "language": "python",
   "name": "python3"
  },
  "language_info": {
   "codemirror_mode": {
    "name": "ipython",
    "version": 3
   },
   "file_extension": ".py",
   "mimetype": "text/x-python",
   "name": "python",
   "nbconvert_exporter": "python",
   "pygments_lexer": "ipython3",
   "version": "3.5.5"
  }
 },
 "nbformat": 4,
 "nbformat_minor": 1
}
